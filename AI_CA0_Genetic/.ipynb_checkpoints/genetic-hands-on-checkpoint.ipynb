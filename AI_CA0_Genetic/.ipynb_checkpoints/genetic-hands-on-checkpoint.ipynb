{
 "cells": [
  {
   "cell_type": "markdown",
   "metadata": {},
   "source": [
    "<h1 style = \"font-size: 30px; text-align: center;\">AI Genetic Hands On</h1>\n",
    "<h2 style = \"font-size: 25px; text-align: center;\">Hospital Job Scheduling</h2>\n",
    "<h2 style = \"font-size: 25px; text-align: center; color: #666\">Name: Sepehr Ghobadi</h2>\n",
    "<h2 style = \"font-size: 25px; text-align: center; color: #666\">Student Id: 810098009</h2>\n",
    "<h4 style=\"text-align: center\">Spring 1400</h4>"
   ]
  },
  {
   "cell_type": "markdown",
   "metadata": {},
   "source": [
    "# Goal Of Project"
   ]
  },
  {
   "cell_type": "markdown",
   "metadata": {},
   "source": [
    "In this project, we apply the Genetic Algorithms to the problem of hospital job scheduling. There are N working days and each day is partitioned in three shifts: morning, evening and night shifts . There is constraints on each shift on minimum and maximum number of doctors that are available in the shift. Also a doctor cant do night shifts for 3 consecutive nights and also cant do morning or evening shift the day after he or she is doing night shift. There is a limit for a single doctor's number of shifts in N days. Since the Genetic Algorithm is used for efficiently searching a large problem space, it can find the solution to the scheduling problem in a reasonable time. The methodology and codes are all explained throughout this report and the effect of several related parameters and techniques are discussed."
   ]
  },
  {
   "cell_type": "markdown",
   "metadata": {},
   "source": [
    "# 1. Introducing the Genetic Algorithm Related Concepts in the Problem"
   ]
  },
  {
   "cell_type": "markdown",
   "metadata": {},
   "source": [
    "## 1.1 Genes And Chromosomes"
   ]
  },
  {
   "cell_type": "markdown",
   "metadata": {},
   "source": [
    "Chromosomes are defined by __N__ binary segments. Each segment represents the schedule of that day. Each day's segment containts three __D__ (number of doctors) bit binary string representing doctors status in morning, evening and nights shifts in that order. if __i__'th bit of a shift is __0__ means that __i__'th doctor is resting that shift and if its __1__ the __i__'th doctor is working in that shift\n",
    "\n",
    "there is no exact definition oof genes in this model. as we do crossover based on days we can consider each days string as genes. also we do mutation on single bits so bits can be genes too.\n",
    "\n",
    "<h4><center> Chromosome = (Gene of day 1 | Gene of day 2 | .... | Gene of day N) </center></h4>\n",
    "<h4><center> Gene of day i = (status of morning shift | status of evening shift | status of night shift) </center></h4>\n",
    "<h4><center> Status of shift j = (presence of doctor 1 | presence of doctor 2 | ....| presence of doctor D) </center></h4>"
   ]
  },
  {
   "cell_type": "markdown",
   "metadata": {},
   "source": [
    "## 1.2 Crossover"
   ]
  },
  {
   "cell_type": "markdown",
   "metadata": {},
   "source": [
    "In the Genetic Algorithm, Crossover is done to combine the genetic information of two parents to generate new offspring. The regular method of crossover (simple K point or uniform crossover) can be used with this model as there is no dependency between chromosome's bits. We use simple K point crossover. "
   ]
  },
  {
   "cell_type": "markdown",
   "metadata": {},
   "source": [
    "## 1.3 Mutation"
   ]
  },
  {
   "cell_type": "markdown",
   "metadata": {},
   "source": [
    "Also mutation with this model is straight forward. As there is no dependency between bits a single bit cant be mutated independently of other bits.\n",
    "Mutating a bit means changing a single doctor's presence on a shift\n",
    "\n",
    "The chance of occurring mutation in each chromosome at each generation is represented by Mutation Probability. This number can be a constant or can get reduced for a specific amount after each generation. Reducing Strategy is due to the fact that it is expected that as more generations are produced, the need for random decisions will decrease and searching the problem's whole space is going to reduce. In this problem we use simple constant probability for mutation"
   ]
  },
  {
   "cell_type": "markdown",
   "metadata": {},
   "source": [
    "## 1.4 Fitness Function"
   ]
  },
  {
   "cell_type": "markdown",
   "metadata": {},
   "source": [
    "Performance of a schedule is measured by two factors. First one is number of shifts that dont violate constraints on number of doctors working in that shift. or each shift that vioilates this constraints __ShiftsCost__ increases by one.\n",
    "\n",
    "Second one is number of doctors that violate constraints on night shifts or maximum working capacity of a single doctor. Each doctor can violates multiple rules in a single scheduling (for example working more than 3 consecutive nights and also working more than limit in total). For each violation __DoctorsCost__ increases by one.\n",
    "\n",
    "The total cost function is calculated by bellow formula:\n",
    "<h4><center> Total Cost = DoctorsPenaltyWeight*DoctorsCost + ShiftsPenaltyWeight*ShiftsCost </center></h4>\n",
    "\n",
    "In this problem __DoctorsPenaltyWeight__ and __ShiftsPenaltyWeight__ are equal but different weightings can be used when priorities and goals differ."
   ]
  },
  {
   "cell_type": "markdown",
   "metadata": {},
   "source": [
    "## 1.5 Choosing Chromosomes for Population Refinement"
   ]
  },
  {
   "cell_type": "markdown",
   "metadata": {},
   "source": [
    "### 1.5.1 Selecting the Remaining Chromosomes"
   ]
  },
  {
   "cell_type": "markdown",
   "metadata": {},
   "source": [
    "After evaluating the population in each generation using the fitness function, chromosomes with better performance must remain in the next generation while others must be replaced by a new generation. While selecting chromosomes with the highest fitness function values as the survived population seems to be a reasonable procedure, in action it is observed that giving small random chances of survival to other chromosomes with lower performance will sometimes improve the efficiency of the algorithm. In this project a certain percent of best chromosomes will be transfered too next generation directly(with out crossover and mating). From rest of chromosomes selecting The survived population is based on a random procedure in which each of the chromosomes will receive a probability for survival and the new population is selected based on the mentioned probabilities form the population. The more the survival probability of a chromosome be the more its chance for survival will be.\n",
    "\n",
    "The survival probability for each of the chromosomes are computed using the below formula:\n",
    "\n",
    "<h2>$$𝑃_𝑖=\\frac{𝑒^{-𝛼𝑉_𝑖}}{\\Sigma_{n=1}^{N}𝑒^{-𝛼𝑉_𝑛}}$$</h2>\n",
    "    \n",
    "where __P_i__ is the survival probability,  __𝑉_𝑖__  is the fitness value of the __𝑖__'th chromosome, __𝑁__ is the number of chromosomes and __𝛼__ is a non-negative small number. For  __𝛼__=0 , the probability of survival would be equal for all of the chromosomes in the population and as __𝛼__ grows, the probability of survival for chromosomes with higher fitness values (in this problem lower fitness values are equal to negative cost of a schedule so they are considered better) will decrease. Exponential terms are used for computing the probabilities in order to reinforce the difference between the chance of survival of chromosomes with higher and lower fitness function values."
   ]
  },
  {
   "cell_type": "markdown",
   "metadata": {},
   "source": [
    "### 1.5.2 Choosing Couples for Crossover Operation"
   ]
  },
  {
   "cell_type": "markdown",
   "metadata": {},
   "source": [
    "The chromosome couples for the crossover operation are selected from the selected chromosomes to be remain. The process of choosing the parents is also in a random procedure. We choose random couples from chromosomes and perform crossoover on them with a constant probability\n",
    "\n",
    "Other algorithms can be used for mating of chromosomes. a simple algortihm could use product of two chromosomes' fitness value as probabilty of mating those two. The bigger the product of the values of two chromosomes, the higher their chance of being selected for crossover.\n",
    "\n",
    "\n",
    "<h2>$$𝑄_{𝑖,𝑗} = \\frac{𝑒^{𝛽𝑉_𝑖𝑉_𝑗}}{ \\Sigma_{n=1}^{N}{\\Sigma_{m=n+1}^{N} 𝑒^{𝛽𝑉_𝑛𝑉_𝑚}}} , 𝑖>𝑗 $$</h2>\n",
    " \n",
    "where __Q_i_j__  is the probability, __V_i__  is the fitness value of the __i__ 'th chromosome, __V_j__  is the fitness value of the __j__'th chromosome, __N__ is the number of chromosomes from which we are selecting and __𝛽__  is an anon-negative small number. For  __𝛽__=0 , the probability of selection would be equal for each chromosome couples in the population and as __𝛽__ grows, the probability of being chosen for chromosomes with a lower product of fitness values will decrease. Like the formula mentioned in the previous section, exponential terms are used for computing the probabilities in order to reinforce the difference between the chance of crossover for more eligible couples.\n"
   ]
  },
  {
   "cell_type": "code",
   "execution_count": 9,
   "metadata": {},
   "outputs": [],
   "source": [
    "import random\n",
    "import math\n",
    "import numpy as np"
   ]
  },
  {
   "cell_type": "markdown",
   "metadata": {},
   "source": [
    "<h2 style = \"font-size: 25px;\">Test Files</h2>"
   ]
  },
  {
   "cell_type": "code",
   "execution_count": 10,
   "metadata": {},
   "outputs": [],
   "source": [
    "testFile1 = \"test1.txt\"\n",
    "testFile2 = \"test2.txt\""
   ]
  },
  {
   "cell_type": "markdown",
   "metadata": {},
   "source": [
    "<h2 style = \"font-size: 25px;\">Reading Test File Content</h2>"
   ]
  },
  {
   "cell_type": "code",
   "execution_count": 11,
   "metadata": {},
   "outputs": [],
   "source": [
    "def readInput(testFile) :\n",
    "    file = open(testFile, 'r+')\n",
    "    fileList = file.readlines()\n",
    "    fileList = [s.replace('\\n', '') for s in fileList]\n",
    "    \n",
    "    [days, doctors] = [int(i) for i in fileList[0].split()]\n",
    "    maxCapacity = int(fileList[1])\n",
    "    \n",
    "    allShifts = []\n",
    "    for i in range(2, days + 2):\n",
    "        dayRequirements = fileList[i].split()\n",
    "        morningReqs = [int(i) for i in dayRequirements[0].split(\",\")]\n",
    "        eveningReqs = [int(i) for i in dayRequirements[1].split(\",\")]\n",
    "        nightReqs = [int(i) for i in dayRequirements[2].split(\",\")]\n",
    "        \n",
    "        allShifts.append((morningReqs, eveningReqs, nightReqs))\n",
    "\n",
    "    file.close()\n",
    "    return [days, list(range(doctors)), maxCapacity, allShifts]"
   ]
  },
  {
   "cell_type": "markdown",
   "metadata": {},
   "source": [
    "<h2 style = \"font-size: 25px;\">Job Scheduler</h2>"
   ]
  },
  {
   "cell_type": "code",
   "execution_count": 15,
   "metadata": {},
   "outputs": [],
   "source": [
    "class JobScheduler:\n",
    "    def __init__(self, fileInfo):\n",
    "        self.days = fileInfo[0]\n",
    "        self.doctors = len(fileInfo[1])\n",
    "        self.doctorsIds = fileInfo[1]\n",
    "        self.maxCapacity = fileInfo[2]\n",
    "        self.allShifts = fileInfo[3]\n",
    "        self.popSize = 300\n",
    "        self.crossOverPoints = [int(i*(self.days/8)) for i in range(9)]\n",
    "        self.elitismPercentage = 0\n",
    "        self.pc = 1\n",
    "        self.pm = 0.01\n",
    "        self.population = self.generateInitialPopulation()\n",
    "        \n",
    "        \n",
    "    def generateInitialPopulation(self):\n",
    "        population = []\n",
    "        for i in range(self.popSize):\n",
    "            chromosome = \"\"\n",
    "            randInt = random.randint(0, 2**(3*self.days*self.doctors)-1 )\n",
    "            for b in range(3*self.days*self.doctors) :\n",
    "                if randInt & (1 << b):\n",
    "                    chromosome += \"1\"\n",
    "                else:\n",
    "                    chromosome += \"0\"\n",
    "            population.append( (chromosome, self.calculateFitness(chromosome)) )\n",
    "        return population\n",
    "        \n",
    "    \n",
    "    def crossOver(self, chromosome1, chromosome2):\n",
    "        newchromosome1 = \"\"\n",
    "        newchromosome2 = \"\"\n",
    "        for i in range(1,len(self.crossOverPoints)):\n",
    "            if i%2 == 0 :\n",
    "                newchromosome1 += chromosome1[3*self.crossOverPoints[i-1]*self.doctors:3*self.crossOverPoints[i]*self.doctors]\n",
    "                newchromosome2 += chromosome2[3*self.crossOverPoints[i-1]*self.doctors:3*self.crossOverPoints[i]*self.doctors]\n",
    "            else:\n",
    "                newchromosome1 += chromosome2[3*self.crossOverPoints[i-1]*self.doctors:3*self.crossOverPoints[i]*self.doctors]\n",
    "                newchromosome2 += chromosome1[3*self.crossOverPoints[i-1]*self.doctors:3*self.crossOverPoints[i]*self.doctors]\n",
    "        return (newchromosome1, newchromosome2)\n",
    "        \n",
    "                \n",
    "    def mutate(self, chromosome):\n",
    "        newChromosome = \"\"\n",
    "        for c in chromosome:\n",
    "            rand = random.random()\n",
    "            if rand < self.pm :\n",
    "                newChromosome += str( 1 - int(c) )\n",
    "            else:\n",
    "                newChromosome += c\n",
    "        return newChromosome\n",
    "    \n",
    "    def getShiftsData(self, chromosome):\n",
    "        daysData = [ chromosome[(3*i*self.doctors) : (3*(i+1)*self.doctors) ] for i in range(self.days) ]\n",
    "        shiftsData = []\n",
    "        for d in daysData:\n",
    "            shiftsData.append( [ d[j*self.doctors : (j+1)*self.doctors] for j in range(3) ] )\n",
    "        return shiftsData\n",
    "        \n",
    "    def calculateFitness(self, chromosome):\n",
    "        doctorsWeight = 1\n",
    "        doctorsCost = 0\n",
    "        shiftsWeight = 1\n",
    "        shiftsCost = 0\n",
    "        shiftsData = self.getShiftsData(chromosome)\n",
    "        for day in range(self.days):\n",
    "            for shift in range(3):\n",
    "                doctorsCount = shiftsData[day][shift].count(\"1\")\n",
    "                if (doctorsCount < self.allShifts[day][shift][0] ) or (self.allShifts[day][shift][1] < doctorsCount) :\n",
    "                    shiftsCost += 1\n",
    "            if day>0:\n",
    "                for doctor in range(self.doctors):\n",
    "                    if shiftsData[day-1][2][doctor] == \"1\" and ( shiftsData[day][0][doctor] == \"1\" or shiftsData[day][1][doctor] == \"1\" ):\n",
    "                        doctorsCost += 1\n",
    "                    if day < self.days-1 and shiftsData[day-1][2][doctor] == \"1\" and shiftsData[day][2][doctor] == \"1\" and shiftsData[day+1][2][doctor] == \"1\" :\n",
    "                        doctorsCost += 1\n",
    "        for doctor in range(self.doctors):\n",
    "            workDays = 0;\n",
    "            for day in range(self.days):\n",
    "                for shift in range(3):\n",
    "                    if shiftsData[day][shift][doctor] == \"1\":\n",
    "                        workDays += 1\n",
    "            if workDays > self.maxCapacity:\n",
    "                doctorsCost += 1\n",
    "        totalCost = doctorsWeight*doctorsCost + shiftsWeight*shiftsCost\n",
    "        return totalCost\n",
    "    \n",
    "    \n",
    "    def generateNewPopulation(self):\n",
    "        alpha = 1\n",
    "        self.population = sorted(self.population, key=lambda p: p[1])\n",
    "        bestChromosomes = [ p[0] for p in self.population[0: int((self.elitismPercentage/100)*self.popSize)] ]\n",
    "        remainedChromosomes = [ p[0] for p in self.population[int((self.elitismPercentage/100)*self.popSize):] ]\n",
    "        fitnessSum = sum([ math.exp(-1*alpha*p[1]) for p in self.population[int((self.elitismPercentage/100)*self.popSize):] ])\n",
    "        surviveProbs = [ (math.exp(-1*alpha*p[1])/fitnessSum) for p in self.population[int((self.elitismPercentage/100)*self.popSize):] ]\n",
    "        survivedChromosoms = np.random.choice( remainedChromosomes, len(remainedChromosomes), replace=True, p=surviveProbs).tolist()\n",
    "        random.shuffle(survivedChromosoms)\n",
    "        newChromosomes = bestChromosomes\n",
    "        for i in range(0,len(survivedChromosoms),2):\n",
    "            if i+1 >= len(survivedChromosoms) :\n",
    "                newChromosomes.append(survivedChromosoms[i])\n",
    "            else:\n",
    "                rand = random.random()\n",
    "                chromosome1 = survivedChromosoms[i]\n",
    "                chromosome2 = survivedChromosoms[i+1]\n",
    "                if rand < self.pc :\n",
    "                    chromosome1, chromosome2 = self.crossOver(chromosome1, chromosome2)\n",
    "                newChromosomes.append(chromosome1)\n",
    "                newChromosomes.append(chromosome2)\n",
    "        self.population = []\n",
    "        for chromosome in newChromosomes:\n",
    "            chromosome = self.mutate(chromosome)\n",
    "            self.population.append( (chromosome, self.calculateFitness(chromosome)) )\n",
    "        return\n",
    "    \n",
    "    def print_schedule(self, chromosome, file):\n",
    "        shiftsData = self.getShiftsData(chromosome)\n",
    "        schedule = \"\"\n",
    "        for day in range(self.days):\n",
    "            result = \"\"\n",
    "            for shift in range(3):\n",
    "                first = True\n",
    "                for doctor in range(self.doctors):\n",
    "                    if shiftsData[day][shift][doctor] == \"1\":\n",
    "                        if first == False:\n",
    "                            result += \",\"\n",
    "                        first = False\n",
    "                        result += str(self.doctorsIds[doctor])\n",
    "                if shift<2:\n",
    "                    result += \" \"\n",
    "            schedule += result + \"\\n\"\n",
    "        f = open(file, \"w\")\n",
    "        f.write(schedule)\n",
    "        f.close()\n",
    "                    \n",
    "            \n",
    "                \n",
    "    \n",
    "    def check_finish(self):\n",
    "        result = {\"min_cost\":100000000000000000000, \"chromosome\":None}\n",
    "        for chromosome, fitness in self.population:\n",
    "            result[\"min_cost\"] = min(result[\"min_cost\"], fitness)\n",
    "            if fitness == 0 :\n",
    "                result[\"chromosome\"]=chromosome\n",
    "                return result\n",
    "        return result\n",
    "    \n",
    "    def schedule(self, log=False):\n",
    "        iteration = 1\n",
    "        result = self.check_finish()\n",
    "        while (result[\"min_cost\"] > 0 ):\n",
    "            if log:\n",
    "                print(\"iteration {}\\t\\t best chromosome fitness: {}\".format(iteration, result[\"min_cost\"]))\n",
    "            self.generateNewPopulation()\n",
    "            result = self.check_finish()\n",
    "            iteration += 1\n",
    "        if log:\n",
    "            print(\"Finished !\")\n",
    "        return result"
   ]
  },
  {
   "cell_type": "markdown",
   "metadata": {},
   "source": [
    "<h2 style = \"font-size: 25px;\">Execution</h2>"
   ]
  },
  {
   "cell_type": "code",
   "execution_count": 22,
   "metadata": {},
   "outputs": [
    {
     "name": "stdout",
     "output_type": "stream",
     "text": [
      "iteration 1\t\t best chromosome fitness: 40\n",
      "iteration 2\t\t best chromosome fitness: 35\n",
      "iteration 3\t\t best chromosome fitness: 32\n",
      "iteration 4\t\t best chromosome fitness: 29\n",
      "iteration 5\t\t best chromosome fitness: 26\n",
      "iteration 6\t\t best chromosome fitness: 25\n",
      "iteration 7\t\t best chromosome fitness: 22\n",
      "iteration 8\t\t best chromosome fitness: 20\n",
      "iteration 9\t\t best chromosome fitness: 17\n",
      "iteration 10\t\t best chromosome fitness: 16\n",
      "iteration 11\t\t best chromosome fitness: 15\n",
      "iteration 12\t\t best chromosome fitness: 15\n",
      "iteration 13\t\t best chromosome fitness: 14\n",
      "iteration 14\t\t best chromosome fitness: 14\n",
      "iteration 15\t\t best chromosome fitness: 13\n",
      "iteration 16\t\t best chromosome fitness: 12\n",
      "iteration 17\t\t best chromosome fitness: 12\n",
      "iteration 18\t\t best chromosome fitness: 10\n",
      "iteration 19\t\t best chromosome fitness: 9\n",
      "iteration 20\t\t best chromosome fitness: 9\n",
      "iteration 21\t\t best chromosome fitness: 9\n",
      "iteration 22\t\t best chromosome fitness: 8\n",
      "iteration 23\t\t best chromosome fitness: 8\n",
      "iteration 24\t\t best chromosome fitness: 8\n",
      "iteration 25\t\t best chromosome fitness: 7\n",
      "iteration 26\t\t best chromosome fitness: 7\n",
      "iteration 27\t\t best chromosome fitness: 6\n",
      "iteration 28\t\t best chromosome fitness: 6\n",
      "iteration 29\t\t best chromosome fitness: 6\n",
      "iteration 30\t\t best chromosome fitness: 6\n",
      "iteration 31\t\t best chromosome fitness: 5\n",
      "iteration 32\t\t best chromosome fitness: 4\n",
      "iteration 33\t\t best chromosome fitness: 4\n",
      "iteration 34\t\t best chromosome fitness: 4\n",
      "iteration 35\t\t best chromosome fitness: 3\n",
      "iteration 36\t\t best chromosome fitness: 3\n",
      "iteration 37\t\t best chromosome fitness: 2\n",
      "iteration 38\t\t best chromosome fitness: 2\n",
      "iteration 39\t\t best chromosome fitness: 2\n",
      "iteration 40\t\t best chromosome fitness: 2\n",
      "iteration 41\t\t best chromosome fitness: 2\n",
      "iteration 42\t\t best chromosome fitness: 2\n",
      "iteration 43\t\t best chromosome fitness: 2\n",
      "iteration 44\t\t best chromosome fitness: 2\n",
      "iteration 45\t\t best chromosome fitness: 2\n",
      "iteration 46\t\t best chromosome fitness: 2\n",
      "iteration 47\t\t best chromosome fitness: 2\n",
      "iteration 48\t\t best chromosome fitness: 1\n",
      "iteration 49\t\t best chromosome fitness: 1\n",
      "iteration 50\t\t best chromosome fitness: 1\n",
      "iteration 51\t\t best chromosome fitness: 1\n",
      "iteration 52\t\t best chromosome fitness: 1\n",
      "iteration 53\t\t best chromosome fitness: 1\n",
      "iteration 54\t\t best chromosome fitness: 1\n",
      "iteration 55\t\t best chromosome fitness: 1\n",
      "iteration 56\t\t best chromosome fitness: 1\n",
      "iteration 57\t\t best chromosome fitness: 1\n",
      "iteration 58\t\t best chromosome fitness: 1\n",
      "iteration 59\t\t best chromosome fitness: 1\n",
      "iteration 60\t\t best chromosome fitness: 1\n",
      "iteration 61\t\t best chromosome fitness: 1\n",
      "iteration 62\t\t best chromosome fitness: 1\n",
      "iteration 63\t\t best chromosome fitness: 1\n",
      "iteration 64\t\t best chromosome fitness: 1\n",
      "iteration 65\t\t best chromosome fitness: 1\n",
      "iteration 66\t\t best chromosome fitness: 1\n",
      "Finished !\n",
      "test 1:  1.67 sec, 3 runs\n"
     ]
    }
   ],
   "source": [
    "import time\n",
    "\n",
    "fileInfo1 = readInput(testFile1)\n",
    "\n",
    "RUNS = 3\n",
    "meanTime=0\n",
    "\n",
    "for run in range(RUNS):\n",
    "\n",
    "    start = time.time()\n",
    "\n",
    "    scheduler = JobScheduler(fileInfo1)\n",
    "    result = scheduler.schedule(log=(run==0))\n",
    "    scheduler.print_schedule(result[\"chromosome\"], \"output1.txt\")\n",
    "\n",
    "    end = time.time()\n",
    "    meanTime += (end-start)\n",
    "\n",
    "print(\"test 1: \", '%.2f'%(meanTime/RUNS), 'sec,', RUNS, 'runs')"
   ]
  },
  {
   "cell_type": "code",
   "execution_count": 25,
   "metadata": {
    "scrolled": false
   },
   "outputs": [
    {
     "name": "stdout",
     "output_type": "stream",
     "text": [
      "iteration 1\t\t best chromosome fitness: 79\n",
      "iteration 2\t\t best chromosome fitness: 75\n",
      "iteration 3\t\t best chromosome fitness: 71\n",
      "iteration 4\t\t best chromosome fitness: 68\n",
      "iteration 5\t\t best chromosome fitness: 63\n",
      "iteration 6\t\t best chromosome fitness: 61\n",
      "iteration 7\t\t best chromosome fitness: 58\n",
      "iteration 8\t\t best chromosome fitness: 54\n",
      "iteration 9\t\t best chromosome fitness: 49\n",
      "iteration 10\t\t best chromosome fitness: 46\n",
      "iteration 11\t\t best chromosome fitness: 44\n",
      "iteration 12\t\t best chromosome fitness: 41\n",
      "iteration 13\t\t best chromosome fitness: 40\n",
      "iteration 14\t\t best chromosome fitness: 37\n",
      "iteration 15\t\t best chromosome fitness: 35\n",
      "iteration 16\t\t best chromosome fitness: 33\n",
      "iteration 17\t\t best chromosome fitness: 32\n",
      "iteration 18\t\t best chromosome fitness: 31\n",
      "iteration 19\t\t best chromosome fitness: 29\n",
      "iteration 20\t\t best chromosome fitness: 28\n",
      "iteration 21\t\t best chromosome fitness: 27\n",
      "iteration 22\t\t best chromosome fitness: 26\n",
      "iteration 23\t\t best chromosome fitness: 25\n",
      "iteration 24\t\t best chromosome fitness: 23\n",
      "iteration 25\t\t best chromosome fitness: 22\n",
      "iteration 26\t\t best chromosome fitness: 22\n",
      "iteration 27\t\t best chromosome fitness: 21\n",
      "iteration 28\t\t best chromosome fitness: 21\n",
      "iteration 29\t\t best chromosome fitness: 20\n",
      "iteration 30\t\t best chromosome fitness: 19\n",
      "iteration 31\t\t best chromosome fitness: 19\n",
      "iteration 32\t\t best chromosome fitness: 17\n",
      "iteration 33\t\t best chromosome fitness: 17\n",
      "iteration 34\t\t best chromosome fitness: 16\n",
      "iteration 35\t\t best chromosome fitness: 16\n",
      "iteration 36\t\t best chromosome fitness: 16\n",
      "iteration 37\t\t best chromosome fitness: 15\n",
      "iteration 38\t\t best chromosome fitness: 15\n",
      "iteration 39\t\t best chromosome fitness: 15\n",
      "iteration 40\t\t best chromosome fitness: 15\n",
      "iteration 41\t\t best chromosome fitness: 15\n",
      "iteration 42\t\t best chromosome fitness: 15\n",
      "iteration 43\t\t best chromosome fitness: 15\n",
      "iteration 44\t\t best chromosome fitness: 14\n",
      "iteration 45\t\t best chromosome fitness: 14\n",
      "iteration 46\t\t best chromosome fitness: 12\n",
      "iteration 47\t\t best chromosome fitness: 12\n",
      "iteration 48\t\t best chromosome fitness: 12\n",
      "iteration 49\t\t best chromosome fitness: 12\n",
      "iteration 50\t\t best chromosome fitness: 12\n",
      "iteration 51\t\t best chromosome fitness: 12\n",
      "iteration 52\t\t best chromosome fitness: 12\n",
      "iteration 53\t\t best chromosome fitness: 12\n",
      "iteration 54\t\t best chromosome fitness: 12\n",
      "iteration 55\t\t best chromosome fitness: 12\n",
      "iteration 56\t\t best chromosome fitness: 12\n",
      "iteration 57\t\t best chromosome fitness: 11\n",
      "iteration 58\t\t best chromosome fitness: 10\n",
      "iteration 59\t\t best chromosome fitness: 10\n",
      "iteration 60\t\t best chromosome fitness: 10\n",
      "iteration 61\t\t best chromosome fitness: 10\n",
      "iteration 62\t\t best chromosome fitness: 10\n",
      "iteration 63\t\t best chromosome fitness: 10\n",
      "iteration 64\t\t best chromosome fitness: 10\n",
      "iteration 65\t\t best chromosome fitness: 10\n",
      "iteration 66\t\t best chromosome fitness: 10\n",
      "iteration 67\t\t best chromosome fitness: 9\n",
      "iteration 68\t\t best chromosome fitness: 8\n",
      "iteration 69\t\t best chromosome fitness: 8\n",
      "iteration 70\t\t best chromosome fitness: 8\n",
      "iteration 71\t\t best chromosome fitness: 7\n",
      "iteration 72\t\t best chromosome fitness: 7\n",
      "iteration 73\t\t best chromosome fitness: 7\n",
      "iteration 74\t\t best chromosome fitness: 7\n",
      "iteration 75\t\t best chromosome fitness: 7\n",
      "iteration 76\t\t best chromosome fitness: 7\n",
      "iteration 77\t\t best chromosome fitness: 7\n",
      "iteration 78\t\t best chromosome fitness: 7\n",
      "iteration 79\t\t best chromosome fitness: 7\n",
      "iteration 80\t\t best chromosome fitness: 7\n",
      "iteration 81\t\t best chromosome fitness: 6\n",
      "iteration 82\t\t best chromosome fitness: 6\n",
      "iteration 83\t\t best chromosome fitness: 6\n",
      "iteration 84\t\t best chromosome fitness: 6\n",
      "iteration 85\t\t best chromosome fitness: 6\n",
      "iteration 86\t\t best chromosome fitness: 6\n",
      "iteration 87\t\t best chromosome fitness: 6\n",
      "iteration 88\t\t best chromosome fitness: 6\n",
      "iteration 89\t\t best chromosome fitness: 6\n",
      "iteration 90\t\t best chromosome fitness: 6\n",
      "iteration 91\t\t best chromosome fitness: 5\n",
      "iteration 92\t\t best chromosome fitness: 5\n",
      "iteration 93\t\t best chromosome fitness: 5\n",
      "iteration 94\t\t best chromosome fitness: 5\n",
      "iteration 95\t\t best chromosome fitness: 5\n",
      "iteration 96\t\t best chromosome fitness: 5\n",
      "iteration 97\t\t best chromosome fitness: 5\n",
      "iteration 98\t\t best chromosome fitness: 5\n",
      "iteration 99\t\t best chromosome fitness: 5\n",
      "iteration 100\t\t best chromosome fitness: 5\n",
      "iteration 101\t\t best chromosome fitness: 5\n",
      "iteration 102\t\t best chromosome fitness: 5\n",
      "iteration 103\t\t best chromosome fitness: 5\n",
      "iteration 104\t\t best chromosome fitness: 5\n",
      "iteration 105\t\t best chromosome fitness: 5\n",
      "iteration 106\t\t best chromosome fitness: 5\n",
      "iteration 107\t\t best chromosome fitness: 5\n",
      "iteration 108\t\t best chromosome fitness: 5\n",
      "iteration 109\t\t best chromosome fitness: 5\n",
      "iteration 110\t\t best chromosome fitness: 5\n",
      "iteration 111\t\t best chromosome fitness: 5\n",
      "iteration 112\t\t best chromosome fitness: 5\n",
      "iteration 113\t\t best chromosome fitness: 5\n",
      "iteration 114\t\t best chromosome fitness: 5\n",
      "iteration 115\t\t best chromosome fitness: 5\n",
      "iteration 116\t\t best chromosome fitness: 5\n",
      "iteration 117\t\t best chromosome fitness: 5\n",
      "iteration 118\t\t best chromosome fitness: 5\n",
      "iteration 119\t\t best chromosome fitness: 5\n",
      "iteration 120\t\t best chromosome fitness: 5\n",
      "iteration 121\t\t best chromosome fitness: 5\n",
      "iteration 122\t\t best chromosome fitness: 5\n",
      "iteration 123\t\t best chromosome fitness: 5\n",
      "iteration 124\t\t best chromosome fitness: 5\n",
      "iteration 125\t\t best chromosome fitness: 5\n",
      "iteration 126\t\t best chromosome fitness: 4\n",
      "iteration 127\t\t best chromosome fitness: 4\n",
      "iteration 128\t\t best chromosome fitness: 4\n",
      "iteration 129\t\t best chromosome fitness: 4\n",
      "iteration 130\t\t best chromosome fitness: 4\n",
      "iteration 131\t\t best chromosome fitness: 4\n",
      "iteration 132\t\t best chromosome fitness: 4\n",
      "iteration 133\t\t best chromosome fitness: 4\n",
      "iteration 134\t\t best chromosome fitness: 4\n",
      "iteration 135\t\t best chromosome fitness: 4\n",
      "iteration 136\t\t best chromosome fitness: 4\n",
      "iteration 137\t\t best chromosome fitness: 4\n",
      "iteration 138\t\t best chromosome fitness: 4\n",
      "iteration 139\t\t best chromosome fitness: 4\n",
      "iteration 140\t\t best chromosome fitness: 4\n",
      "iteration 141\t\t best chromosome fitness: 4\n",
      "iteration 142\t\t best chromosome fitness: 4\n",
      "iteration 143\t\t best chromosome fitness: 5\n",
      "iteration 144\t\t best chromosome fitness: 4\n",
      "iteration 145\t\t best chromosome fitness: 4\n",
      "iteration 146\t\t best chromosome fitness: 3\n",
      "iteration 147\t\t best chromosome fitness: 3\n",
      "iteration 148\t\t best chromosome fitness: 3\n",
      "iteration 149\t\t best chromosome fitness: 3\n",
      "iteration 150\t\t best chromosome fitness: 3\n",
      "iteration 151\t\t best chromosome fitness: 3\n",
      "iteration 152\t\t best chromosome fitness: 3\n",
      "iteration 153\t\t best chromosome fitness: 3\n",
      "iteration 154\t\t best chromosome fitness: 3\n",
      "iteration 155\t\t best chromosome fitness: 3\n",
      "iteration 156\t\t best chromosome fitness: 3\n",
      "iteration 157\t\t best chromosome fitness: 3\n",
      "iteration 158\t\t best chromosome fitness: 2\n",
      "iteration 159\t\t best chromosome fitness: 2\n",
      "iteration 160\t\t best chromosome fitness: 2\n",
      "iteration 161\t\t best chromosome fitness: 2\n",
      "iteration 162\t\t best chromosome fitness: 2\n",
      "iteration 163\t\t best chromosome fitness: 2\n",
      "iteration 164\t\t best chromosome fitness: 2\n",
      "iteration 165\t\t best chromosome fitness: 2\n",
      "iteration 166\t\t best chromosome fitness: 2\n",
      "iteration 167\t\t best chromosome fitness: 2\n",
      "iteration 168\t\t best chromosome fitness: 2\n",
      "iteration 169\t\t best chromosome fitness: 2\n",
      "iteration 170\t\t best chromosome fitness: 2\n",
      "iteration 171\t\t best chromosome fitness: 1\n",
      "iteration 172\t\t best chromosome fitness: 1\n",
      "iteration 173\t\t best chromosome fitness: 1\n",
      "iteration 174\t\t best chromosome fitness: 1\n",
      "iteration 175\t\t best chromosome fitness: 1\n",
      "iteration 176\t\t best chromosome fitness: 1\n",
      "iteration 177\t\t best chromosome fitness: 1\n",
      "iteration 178\t\t best chromosome fitness: 1\n",
      "iteration 179\t\t best chromosome fitness: 1\n",
      "iteration 180\t\t best chromosome fitness: 1\n",
      "iteration 181\t\t best chromosome fitness: 1\n",
      "iteration 182\t\t best chromosome fitness: 1\n",
      "iteration 183\t\t best chromosome fitness: 1\n",
      "Finished !\n",
      "test 2:  13.99 sec, 3 runs\n"
     ]
    }
   ],
   "source": [
    "fileInfo2 = readInput(testFile2)\n",
    "\n",
    "RUNS = 3\n",
    "meanTime=0\n",
    "\n",
    "for run in range(RUNS):\n",
    "\n",
    "    start = time.time()\n",
    "\n",
    "    scheduler = JobScheduler(fileInfo2)\n",
    "    result = scheduler.schedule(log=(run==0))\n",
    "    scheduler.print_schedule(result[\"chromosome\"], \"output2.txt\")\n",
    "\n",
    "    end = time.time()\n",
    "    meanTime += (end-start)\n",
    "\n",
    "print(\"test 2: \", '%.2f'%(meanTime/RUNS), 'sec,', RUNS, 'runs')"
   ]
  },
  {
   "cell_type": "markdown",
   "metadata": {},
   "source": [
    "# 2 Discussing the Results and Effect of Parameters"
   ]
  },
  {
   "cell_type": "markdown",
   "metadata": {},
   "source": [
    "## 2.1 Mutation Vs. Crossover"
   ]
  },
  {
   "cell_type": "markdown",
   "metadata": {},
   "source": [
    "Generally speaking, while Crossover accounts for pulling the population towards a local minimum/maximum, Mutation is intended to occasionally break one or more members of a population out of a local minimum/maximum space and potentially discover a better minimum/maximum space. In other words, __Crossover is a convergence operation and responsible for fast convergence__ while __Mutation is a divergence operation avoiding the population to become too similar to each other__.\n",
    "\n",
    "Since the end goal is to bring the population to convergence, usually crossover happens more frequently. Mutation should happen less frequently to bring diversity into the population and typically only affects a few members of a population in any given generation.\n",
    "\n",
    "This does not mean that Crossover is more important than Mutation or that Mutation must not be used at all. __Both of the mentioned operations are important for adequate convergence and must be applied at their place__.\n",
    "\n",
    "__If the mutation operation is not applied in the algorithm__, the similarity between chromosomes would occur after few generations, meaning the algorithm has stuck into local minimum/maximum and would become incapable of finding the global optimal solution.\n",
    "\n",
    "__If the crossover operation is not applied to the algorithm__, fast and adequate convergence is not possible at all and the process would become a simple exhaustive search."
   ]
  },
  {
   "cell_type": "markdown",
   "metadata": {},
   "source": [
    "## 2.2 The Effect of The Population Size"
   ]
  },
  {
   "cell_type": "markdown",
   "metadata": {},
   "source": [
    "The population size plays a key role in the Genetic Algorithm's performance and it is important to be set properly. For small population size, the Genetic Algorithm can __converge early on a slope and it will not provide an adequate initial surface exploration__. But __this fact does not necessarily mean that a larger population size always ends with better results__. A large population __takes an excessive number of function evaluations__ to converge and __slow down the process of finding the optimal solution__."
   ]
  },
  {
   "cell_type": "markdown",
   "metadata": {},
   "source": [
    "## 2.3 Avoid Getting Stuck on Local Optimum"
   ]
  },
  {
   "cell_type": "markdown",
   "metadata": {},
   "source": [
    "Like other evolutionary algorithms, the Genetic Algorithm can not always guarantee to reach the best answer and its performance reduced by falling in local minimum/maximums. While there is no certain method for avoiding such situations, the following approaches may be found useful:\n",
    "\n",
    "   &emsp;- Multiple runs with different seeds of initial chromosomes are the easiest way to find the optimal solution            to a problem and can sometimes preserve the algorithm from getting stuck in local optimums (known as Random Restart Algorithm).\n",
    "\n",
    "\n",
    "   &emsp;- Increasing the mutation probability for each generation while running the algorithm may remedy the problem.            As it was discussed earlier, the main purpose of using the Mutation technique is to avoid getting stuck in            local optimums and exploring more of the problem space. Hence, increasing the Mutation operations while              generating a new population, seems a logical way out of the problem.\n",
    "\n",
    "&emsp;- Increasing the population which is kept at each generation of the algorithm may also help to escape from local optimums since larger population would explore more of the problem space which lowers the chance of falling in local minimums/maximums (but also deacreases the speed).\n",
    "\n",
    "&emsp;- It is observed that giving a small probability of survival and attending crossover to chromosomes with lower fitness function values can sometimes preserve the Genetic algorithm from local optimums.\n",
    "\n",
    "\n",
    "Some of these techniques mentioned above were used in the project to avoid local optimums and improve the performance and speed of the genetic algorithm and some others were unnecessary in this problem."
   ]
  },
  {
   "cell_type": "code",
   "execution_count": null,
   "metadata": {},
   "outputs": [],
   "source": []
  }
 ],
 "metadata": {
  "kernelspec": {
   "display_name": "Python 3",
   "language": "python",
   "name": "python3"
  },
  "language_info": {
   "codemirror_mode": {
    "name": "ipython",
    "version": 3
   },
   "file_extension": ".py",
   "mimetype": "text/x-python",
   "name": "python",
   "nbconvert_exporter": "python",
   "pygments_lexer": "ipython3",
   "version": "3.9.2"
  }
 },
 "nbformat": 4,
 "nbformat_minor": 4
}
